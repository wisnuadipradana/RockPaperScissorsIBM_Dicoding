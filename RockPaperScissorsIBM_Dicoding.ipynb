{
 "cells": [
  {
   "cell_type": "code",
   "execution_count": 6,
   "metadata": {
    "colab": {
     "base_uri": "https://localhost:8080/"
    },
    "id": "V5kyv3nEHtNn",
    "outputId": "6d5a9dc6-dd98-4187-a196-8b0bb5aae326"
   },
   "outputs": [
    {
     "name": "stdout",
     "output_type": "stream",
     "text": [
      "Setup Complete!\n"
     ]
    }
   ],
   "source": [
    "# import library\n",
    "import pandas as pd\n",
    "import numpy as np\n",
    "\n",
    "# files\n",
    "import os\n",
    "from shutil import copyfile\n",
    "from google.colab import files\n",
    "\n",
    "# visualization\n",
    "import matplotlib.pyplot as plt\n",
    "from matplotlib import pyplot\n",
    "from matplotlib.image import imread\n",
    "import matplotlib.image as mpimg\n",
    "import seaborn as sns\n",
    "import plotly.express as px\n",
    "\n",
    "# times\n",
    "import time\n",
    "from tqdm import tqdm \n",
    "from datetime import datetime\n",
    "\n",
    "# classification library\n",
    "import tensorflow as tf \n",
    "from tensorflow.python.keras.models import Sequential\n",
    "from tensorflow.keras.preprocessing.image import load_img, img_to_array, ImageDataGenerator\n",
    "from tensorflow.python.keras.layers import Dense, Flatten, GlobalAveragePooling2D, Conv2D, MaxPooling2D\n",
    "from tensorflow.keras.utils import to_categorical\n",
    "from keras.preprocessing import image\n",
    "from tensorflow.keras.callbacks import EarlyStopping, ModelCheckpoint, ReduceLROnPlateau, TensorBoard\n",
    "\n",
    "print(\"Setup Complete!\")"
   ]
  },
  {
   "cell_type": "code",
   "execution_count": 7,
   "metadata": {
    "colab": {
     "base_uri": "https://localhost:8080/"
    },
    "id": "Fgvjwa-TJIcr",
    "outputId": "ac25c4a0-840d-45f6-e0b2-19250b31cc63"
   },
   "outputs": [
    {
     "name": "stdout",
     "output_type": "stream",
     "text": [
      "--2020-11-01 05:34:34--  https://dicodingacademy.blob.core.windows.net/picodiploma/ml_pemula_academy/rockpaperscissors.zip\n",
      "Resolving dicodingacademy.blob.core.windows.net (dicodingacademy.blob.core.windows.net)... 52.239.197.36\n",
      "Connecting to dicodingacademy.blob.core.windows.net (dicodingacademy.blob.core.windows.net)|52.239.197.36|:443... connected.\n",
      "HTTP request sent, awaiting response... 200 OK\n",
      "Length: 322873683 (308M) [application/zip]\n",
      "Saving to: ‘/tmp/rockpaperscissors.zip’\n",
      "\n",
      "/tmp/rockpapersciss 100%[===================>] 307.92M  8.48MB/s    in 40s     \n",
      "\n",
      "2020-11-01 05:35:15 (7.79 MB/s) - ‘/tmp/rockpaperscissors.zip’ saved [322873683/322873683]\n",
      "\n"
     ]
    }
   ],
   "source": [
    "# melakukan download file dalam bentuk zip\n",
    "!wget --no-check-certificate \\\n",
    "  https://dicodingacademy.blob.core.windows.net/picodiploma/ml_pemula_academy/rockpaperscissors.zip \\\n",
    "  -O /tmp/rockpaperscissors.zip\n"
   ]
  },
  {
   "cell_type": "code",
   "execution_count": 8,
   "metadata": {
    "id": "_ontm2cl0Z8s"
   },
   "outputs": [],
   "source": [
    "# melakukan ekstraksi dari file zip\n",
    "\n",
    "import zipfile\n",
    "zip_local = '/tmp/rockpaperscissors.zip'\n",
    "ref_zip = zipfile.ZipFile(zip_local,'r')\n",
    "ref_zip.extractall('/tmp')\n",
    "ref_zip.close()"
   ]
  },
  {
   "cell_type": "code",
   "execution_count": 9,
   "metadata": {
    "colab": {
     "base_uri": "https://localhost:8080/"
    },
    "id": "Amj0vOu7zikX",
    "outputId": "174ab116-afd5-418e-8397-d9fcfedf5f90"
   },
   "outputs": [
    {
     "data": {
      "text/plain": [
       "['paper', 'rock', 'README_rpc-cv-images.txt', 'scissors', 'rps-cv-images']"
      ]
     },
     "execution_count": 9,
     "metadata": {
      "tags": []
     },
     "output_type": "execute_result"
    }
   ],
   "source": [
    "#cek isi dari folder\n",
    "os.listdir('/tmp/rockpaperscissors')"
   ]
  },
  {
   "cell_type": "code",
   "execution_count": 10,
   "metadata": {
    "colab": {
     "base_uri": "https://localhost:8080/",
     "height": 513
    },
    "id": "4G7zCfwZ1OLU",
    "outputId": "81862857-54cb-4508-b104-5a36f238a7aa"
   },
   "outputs": [
    {
     "data": {
      "image/png": "[encoded data removed]",
      "text/plain": [
       "<Figure size 576x432 with 1 Axes>"
      ]
     },
     "metadata": {
      "tags": []
     },
     "output_type": "display_data"
    },
    {
     "name": "stdout",
     "output_type": "stream",
     "text": [
      "Banyaknya dataset Batu: 726\n",
      "Banyaknya dataset Gunting: 750\n",
      "Banyaknya dataset Kertas: 712\n"
     ]
    }
   ],
   "source": [
    "# visualisasi banyaknya dataset gambar, gunting, kertas\n",
    "import matplotlib.pyplot as plt\n",
    "\n",
    "fig = plt.figure(figsize=(8,6)) \n",
    "ax = fig.add_axes([0,0,1,1])\n",
    "ax.axis('equal')\n",
    "\n",
    "label = ['Batu', 'Gunting', 'Kertas']\n",
    "Nilai = [len(os.listdir('/tmp/rockpaperscissors/rock')), \n",
    "         len(os.listdir('/tmp/rockpaperscissors/scissors')), \n",
    "         len(os.listdir('/tmp/rockpaperscissors/paper'))] \n",
    "\n",
    "ax.pie(Nilai,labels=label,autopct='%1.2f%%')\n",
    "plt.show()\n",
    "\n",
    "print('Banyaknya dataset Batu:', len(os.listdir('/tmp/rockpaperscissors/rock')))\n",
    "print('Banyaknya dataset Gunting:', len(os.listdir('/tmp/rockpaperscissors/scissors')))\n",
    "print('Banyaknya dataset Kertas:', len(os.listdir('/tmp/rockpaperscissors/paper')))"
   ]
  },
  {
   "cell_type": "code",
   "execution_count": 11,
   "metadata": {
    "id": "MU-xsqVV1cEt"
   },
   "outputs": [],
   "source": [
    "# define directory\n",
    "image_dir = '/tmp/rockpaperscissors/rps-cv-images'"
   ]
  },
  {
   "cell_type": "code",
   "execution_count": 12,
   "metadata": {
    "id": "pDvgz6ZG1cVz"
   },
   "outputs": [],
   "source": [
    "# create data generator\n",
    "\n",
    "train_datagen = ImageDataGenerator( rescale = 1.0/255,\n",
    "                                    rotation_range=50,\n",
    "                                    width_shift_range=0.1,\n",
    "                                    height_shift_range=0.1,\n",
    "                                    shear_range=0.15,\n",
    "                                    zoom_range=0.1,\n",
    "                                    horizontal_flip=True,\n",
    "                                    vertical_flip = True,\n",
    "                                    validation_split=0.4)\n",
    "\n",
    "test_datagen = ImageDataGenerator(rescale = 1.0/255,\n",
    "                                  rotation_range=50,\n",
    "                                  width_shift_range=0.1,\n",
    "                                  height_shift_range=0.1,\n",
    "                                  shear_range=0.15,\n",
    "                                  zoom_range=0.1,\n",
    "                                  horizontal_flip=True,\n",
    "                                  vertical_flip = True,\n",
    "                                  validation_split=0.4)"
   ]
  },
  {
   "cell_type": "code",
   "execution_count": 13,
   "metadata": {
    "colab": {
     "base_uri": "https://localhost:8080/"
    },
    "id": "4g93hMuC1cfT",
    "outputId": "e3fb3d71-a64a-4321-811e-ab04acc49cc9"
   },
   "outputs": [
    {
     "name": "stdout",
     "output_type": "stream",
     "text": [
      "Found 1314 images belonging to 3 classes.\n",
      "Found 874 images belonging to 3 classes.\n"
     ]
    }
   ],
   "source": [
    "# Augmentasi Dataset(Preparing iterators for both train-test datasets)\n",
    "\n",
    "image_data_train = train_datagen.flow_from_directory(image_dir,\n",
    "                                                     batch_size=32,\n",
    "                                                     class_mode='categorical',\n",
    "                                                     target_size=(60, 40),\n",
    "                                                     subset='training')\n",
    "\n",
    "image_data_test = test_datagen.flow_from_directory(image_dir,\n",
    "                                                    batch_size=32,\n",
    "                                                    class_mode='categorical',\n",
    "                                                    target_size=(60, 40),\n",
    "                                                    subset='validation')"
   ]
  },
  {
   "cell_type": "code",
   "execution_count": 14,
   "metadata": {
    "id": "Bveygzz41ccA"
   },
   "outputs": [],
   "source": [
    "# Menentukan Akurasi tiap model\n",
    "\n",
    "def summarize_diagnostics(model):\n",
    "    acc = model.history['accuracy']\n",
    "    val_acc = model.history['val_accuracy']\n",
    "    loss = model.history['loss']\n",
    "    val_loss = model.history['val_loss'] \n",
    "\n",
    "    epochs = range(len(acc))\n",
    "\n",
    "    fig, ax = plt.subplots(1, 2, figsize=(15,6), dpi=100)\n",
    "    ax[0].plot(epochs, acc, 'r', label='Training accuracy')\n",
    "    ax[0].plot(epochs, val_acc, 'b', label='Validation accuracy')\n",
    "    ax[0].set_title('Training and validation accuracy')\n",
    "    ax[0].legend()\n",
    "\n",
    "    ax[1].plot(epochs, loss, 'r', label='Training Loss')\n",
    "    ax[1].plot(epochs, val_loss, 'b', label='Validation Loss')\n",
    "    ax[1].set_title('Training and validation loss')\n",
    "    ax[1].legend()\n",
    "\n",
    "    plt.show()"
   ]
  },
  {
   "cell_type": "markdown",
   "metadata": {
    "id": "3ug7zoTbnETr"
   },
   "source": [
    "# Model"
   ]
  },
  {
   "cell_type": "code",
   "execution_count": 15,
   "metadata": {
    "colab": {
     "base_uri": "https://localhost:8080/"
    },
    "id": "ygSEuzBm1cZb",
    "outputId": "904220f9-c747-49bd-9818-9fd058f26c90"
   },
   "outputs": [
    {
     "name": "stdout",
     "output_type": "stream",
     "text": [
      "Model: \"sequential\"\n",
      "_________________________________________________________________\n",
      "Layer (type)                 Output Shape              Param #   \n",
      "=================================================================\n",
      "conv2d (Conv2D)              (None, 56, 36, 16)        1216      \n",
      "_________________________________________________________________\n",
      "batch_normalization (BatchNo (None, 56, 36, 16)        64        \n",
      "_________________________________________________________________\n",
      "conv2d_1 (Conv2D)            (None, 56, 36, 32)        8224      \n",
      "_________________________________________________________________\n",
      "max_pooling2d (MaxPooling2D) (None, 28, 18, 32)        0         \n",
      "_________________________________________________________________\n",
      "conv2d_2 (Conv2D)            (None, 28, 18, 64)        18496     \n",
      "_________________________________________________________________\n",
      "max_pooling2d_1 (MaxPooling2 (None, 14, 9, 64)         0         \n",
      "_________________________________________________________________\n",
      "conv2d_3 (Conv2D)            (None, 13, 8, 128)        32896     \n",
      "_________________________________________________________________\n",
      "max_pooling2d_2 (MaxPooling2 (None, 6, 4, 128)         0         \n",
      "_________________________________________________________________\n",
      "flatten (Flatten)            (None, 3072)              0         \n",
      "_________________________________________________________________\n",
      "dense (Dense)                (None, 256)               786688    \n",
      "_________________________________________________________________\n",
      "dense_1 (Dense)              (None, 3)                 771       \n",
      "=================================================================\n",
      "Total params: 848,355\n",
      "Trainable params: 848,323\n",
      "Non-trainable params: 32\n",
      "_________________________________________________________________\n"
     ]
    }
   ],
   "source": [
    "# Tuning Parameter\n",
    "\n",
    "model = Sequential()\n",
    "# block 1\n",
    "model.add(Conv2D(16, (5,5), input_shape=(60, 40, 3), activation='relu'))\n",
    "model.add(tf.keras.layers.BatchNormalization())\n",
    "# block 2\n",
    "model.add(Conv2D(32, (4,4), activation='relu', padding = 'Same'))\n",
    "model.add(MaxPooling2D(2,2))\n",
    "# block 3\n",
    "model.add(Conv2D(64, (3, 3), activation = 'relu', padding = 'Same'))\n",
    "model.add(MaxPooling2D(2, 2))\n",
    "# block 4\n",
    "model.add(Conv2D(128, (2, 2), activation = 'selu'))\n",
    "model.add(MaxPooling2D(2, 2))\n",
    "model.add(Flatten())\n",
    "\n",
    "model.add(Dense(units=256, activation='relu'))\n",
    "model.add(Dense(units=3, activation='softmax'))\n",
    "\n",
    "# print summary model\n",
    "model.summary()\n",
    "\n",
    "# compile model \n",
    "model.compile(loss='categorical_crossentropy', \n",
    "              optimizer = tf.keras.optimizers.Adam(amsgrad=True),  \n",
    "              metrics=['accuracy'])"
   ]
  },
  {
   "cell_type": "code",
   "execution_count": 16,
   "metadata": {
    "id": "UziowYpAmg0V"
   },
   "outputs": [],
   "source": [
    "# Create Callbacks\n",
    "\n",
    "checkpoint = ModelCheckpoint(filepath='model.{epoch:02d}-{accuracy:.2f}.h5',\n",
    "                              monitor='accuracy',\n",
    "                              verbose=2,\n",
    "                              save_best_only=True,\n",
    "                              mode='max',\n",
    "                              save_weights_only=False)\n",
    "\n",
    "adaptive_learning = ReduceLROnPlateau(patience=2,\n",
    "                                      verbose=2,\n",
    "                                      factor=0.5,\n",
    "                                      min_lr=0.000003)\n",
    "\n",
    "early_stop = EarlyStopping(monitor='accuracy', \n",
    "                           patience=10, \n",
    "                           verbose=2, \n",
    "                           mode='max')\n",
    "\n",
    "tensorboard = TensorBoard(log_dir = './logs',\n",
    "                          histogram_freq=0,\n",
    "                          write_graph=True,\n",
    "                          write_images=False)"
   ]
  },
  {
   "cell_type": "code",
   "execution_count": 17,
   "metadata": {
    "colab": {
     "base_uri": "https://localhost:8080/"
    },
    "id": "EOpdvRIo1cTn",
    "outputId": "ed3afba7-cd65-47e2-a071-23d64724f4e4"
   },
   "outputs": [
    {
     "name": "stdout",
     "output_type": "stream",
     "text": [
      "Epoch 1/15\n",
      " 1/42 [..............................] - ETA: 0s - loss: 1.0670 - accuracy: 0.4062WARNING:tensorflow:From /usr/local/lib/python3.6/dist-packages/tensorflow/python/ops/summary_ops_v2.py:1277: stop (from tensorflow.python.eager.profiler) is deprecated and will be removed after 2020-07-01.\n",
      "Instructions for updating:\n",
      "use `tf.profiler.experimental.stop` instead.\n",
      "42/42 [==============================] - ETA: 0s - loss: 0.7686 - accuracy: 0.6728\n",
      "Epoch 00001: accuracy improved from -inf to 0.67275, saving model to model.01-0.67.h5\n",
      "42/42 [==============================] - 18s 418ms/step - loss: 0.7686 - accuracy: 0.6728 - val_loss: 1.1537 - val_accuracy: 0.3318\n",
      "Epoch 2/15\n",
      "42/42 [==============================] - ETA: 0s - loss: 0.3933 - accuracy: 0.8455\n",
      "Epoch 00002: accuracy improved from 0.67275 to 0.84551, saving model to model.02-0.85.h5\n",
      "42/42 [==============================] - 17s 411ms/step - loss: 0.3933 - accuracy: 0.8455 - val_loss: 1.1621 - val_accuracy: 0.3330\n",
      "Epoch 3/15\n",
      "42/42 [==============================] - ETA: 0s - loss: 0.2582 - accuracy: 0.9140\n",
      "Epoch 00003: accuracy improved from 0.84551 to 0.91400, saving model to model.03-0.91.h5\n",
      "42/42 [==============================] - 17s 411ms/step - loss: 0.2582 - accuracy: 0.9140 - val_loss: 0.8545 - val_accuracy: 0.5675\n",
      "Epoch 4/15\n",
      "42/42 [==============================] - ETA: 0s - loss: 0.2139 - accuracy: 0.9285\n",
      "Epoch 00004: accuracy improved from 0.91400 to 0.92846, saving model to model.04-0.93.h5\n",
      "42/42 [==============================] - 17s 413ms/step - loss: 0.2139 - accuracy: 0.9285 - val_loss: 0.8043 - val_accuracy: 0.6144\n",
      "Epoch 5/15\n",
      "42/42 [==============================] - ETA: 0s - loss: 0.1437 - accuracy: 0.9513\n",
      "Epoch 00005: accuracy improved from 0.92846 to 0.95129, saving model to model.05-0.95.h5\n",
      "42/42 [==============================] - 17s 412ms/step - loss: 0.1437 - accuracy: 0.9513 - val_loss: 0.4723 - val_accuracy: 0.8261\n",
      "Epoch 6/15\n",
      "42/42 [==============================] - ETA: 0s - loss: 0.1861 - accuracy: 0.9368\n",
      "Epoch 00006: accuracy did not improve from 0.95129\n",
      "42/42 [==============================] - 17s 410ms/step - loss: 0.1861 - accuracy: 0.9368 - val_loss: 0.6198 - val_accuracy: 0.7803\n",
      "Epoch 7/15\n",
      "42/42 [==============================] - ETA: 0s - loss: 0.1511 - accuracy: 0.9475\n",
      "Epoch 00007: accuracy did not improve from 0.95129\n",
      "42/42 [==============================] - 17s 410ms/step - loss: 0.1511 - accuracy: 0.9475 - val_loss: 0.2837 - val_accuracy: 0.9199\n",
      "Epoch 8/15\n",
      "42/42 [==============================] - ETA: 0s - loss: 0.1077 - accuracy: 0.9688\n",
      "Epoch 00008: accuracy improved from 0.95129 to 0.96880, saving model to model.08-0.97.h5\n",
      "42/42 [==============================] - 17s 411ms/step - loss: 0.1077 - accuracy: 0.9688 - val_loss: 0.2232 - val_accuracy: 0.9291\n",
      "Epoch 9/15\n",
      "42/42 [==============================] - ETA: 0s - loss: 0.0925 - accuracy: 0.9711\n",
      "Epoch 00009: accuracy improved from 0.96880 to 0.97108, saving model to model.09-0.97.h5\n",
      "42/42 [==============================] - 17s 412ms/step - loss: 0.0925 - accuracy: 0.9711 - val_loss: 0.6768 - val_accuracy: 0.7586\n",
      "Epoch 10/15\n",
      "42/42 [==============================] - ETA: 0s - loss: 0.0722 - accuracy: 0.9764\n",
      "Epoch 00010: accuracy improved from 0.97108 to 0.97641, saving model to model.10-0.98.h5\n",
      "\n",
      "Epoch 00010: ReduceLROnPlateau reducing learning rate to 0.0005000000237487257.\n",
      "42/42 [==============================] - 17s 413ms/step - loss: 0.0722 - accuracy: 0.9764 - val_loss: 0.4626 - val_accuracy: 0.8330\n",
      "Epoch 11/15\n",
      "42/42 [==============================] - ETA: 0s - loss: 0.0633 - accuracy: 0.9764\n",
      "Epoch 00011: accuracy did not improve from 0.97641\n",
      "42/42 [==============================] - 17s 413ms/step - loss: 0.0633 - accuracy: 0.9764 - val_loss: 0.2803 - val_accuracy: 0.8959\n",
      "Epoch 12/15\n",
      "42/42 [==============================] - ETA: 0s - loss: 0.0685 - accuracy: 0.9795\n",
      "Epoch 00012: accuracy improved from 0.97641 to 0.97945, saving model to model.12-0.98.h5\n",
      "\n",
      "Epoch 00012: ReduceLROnPlateau reducing learning rate to 0.0002500000118743628.\n",
      "42/42 [==============================] - 17s 411ms/step - loss: 0.0685 - accuracy: 0.9795 - val_loss: 0.2482 - val_accuracy: 0.9165\n",
      "Epoch 13/15\n",
      "42/42 [==============================] - ETA: 0s - loss: 0.0292 - accuracy: 0.9909\n",
      "Epoch 00013: accuracy improved from 0.97945 to 0.99087, saving model to model.13-0.99.h5\n",
      "42/42 [==============================] - 17s 411ms/step - loss: 0.0292 - accuracy: 0.9909 - val_loss: 0.0698 - val_accuracy: 0.9771\n",
      "Epoch 14/15\n",
      "42/42 [==============================] - ETA: 0s - loss: 0.0318 - accuracy: 0.9893\n",
      "Epoch 00014: accuracy did not improve from 0.99087\n",
      "42/42 [==============================] - 17s 409ms/step - loss: 0.0318 - accuracy: 0.9893 - val_loss: 0.0872 - val_accuracy: 0.9691\n",
      "Epoch 15/15\n",
      "42/42 [==============================] - ETA: 0s - loss: 0.0270 - accuracy: 0.9901\n",
      "Epoch 00015: accuracy did not improve from 0.99087\n",
      "42/42 [==============================] - 17s 411ms/step - loss: 0.0270 - accuracy: 0.9901 - val_loss: 0.0513 - val_accuracy: 0.9828\n",
      "Waktu yang diperlukan untuk seluruh replikasi: 04 menit 27 detik\n"
     ]
    }
   ],
   "source": [
    "# fit model ke data train kemudian evaluasi ke data testing\n",
    "awal = datetime.now()\n",
    "\n",
    "model_CNN = model.fit(image_data_train,\n",
    "                      epochs = 15,\n",
    "                      validation_data = image_data_test,\n",
    "                      callbacks=[checkpoint, adaptive_learning, early_stop, tensorboard],\n",
    "                      verbose = True)\n",
    "\n",
    "akhir =  datetime.now()\n",
    "print('Waktu yang diperlukan untuk seluruh replikasi:', \n",
    "      str(akhir-awal)[2:4], 'menit', \n",
    "      str(akhir-awal)[5:7], 'detik')"
   ]
  },
  {
   "cell_type": "code",
   "execution_count": 18,
   "metadata": {
    "colab": {
     "base_uri": "https://localhost:8080/",
     "height": 457
    },
    "id": "Qy5TjVi21cRa",
    "outputId": "1d279fd2-ccaa-406c-ba97-507d37257f4e"
   },
   "outputs": [
    {
     "data": {
      "image/png": "[encoded data removed]",
      "text/plain": [
       "<Figure size 1500x600 with 2 Axes>"
      ]
     },
     "metadata": {
      "needs_background": "light",
      "tags": []
     },
     "output_type": "display_data"
    }
   ],
   "source": [
    "summarize_diagnostics(model_CNN)"
   ]
  },
  {
   "cell_type": "code",
   "execution_count": 19,
   "metadata": {
    "colab": {
     "base_uri": "https://localhost:8080/"
    },
    "id": "Om2QiJCwWlYq",
    "outputId": "a0eac290-f4a6-461e-c7e2-afc2d497296a"
   },
   "outputs": [
    {
     "name": "stdout",
     "output_type": "stream",
     "text": [
      "Training Accuracy on data test is 99.011\n",
      "Training Validation Accuracy on data test is 98.284\n",
      "===========================================\n",
      "Training Loss Accuracy on data test is 0.026989\n",
      "Training Loss Validation on data test is 0.051301\n"
     ]
    }
   ],
   "source": [
    "model_CNN.history['accuracy'][-1]\n",
    "print('Training Accuracy on data test is %.3f' % (model_CNN.history['accuracy'][-1] * 100.0))\n",
    "print('Training Validation Accuracy on data test is %.3f' % (model_CNN.history['val_accuracy'][-1] * 100.0))\n",
    "print('===========================================')\n",
    "print('Training Loss Accuracy on data test is %.6f' % (model_CNN.history['loss'][-1]))\n",
    "print('Training Loss Validation on data test is %.6f' % (model_CNN.history['val_loss'][-1]))"
   ]
  },
  {
   "cell_type": "code",
   "execution_count": 22,
   "metadata": {
    "colab": {
     "base_uri": "https://localhost:8080/",
     "height": 355,
     "resources": {
      "http://localhost:8080/nbextensions/google.colab/files.js": {
       "data": "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",
       "headers": [
        [
         "content-type",
         "application/javascript"
        ]
       ],
       "ok": true,
       "status": 200,
       "status_text": ""
      }
     }
    },
    "id": "krmCNhL6ovQC",
    "outputId": "df29accf-fc79-48d0-86b6-47cf37ecbf15"
   },
   "outputs": [
    {
     "data": {
      "text/html": [
       "\n",
       "     <input type=\"file\" id=\"files-7edffa83-2339-4318-aea5-f15d8e819e48\" name=\"files[]\" multiple disabled\n",
       "        style=\"border:none\" />\n",
       "     <output id=\"result-7edffa83-2339-4318-aea5-f15d8e819e48\">\n",
       "      Upload widget is only available when the cell has been executed in the\n",
       "      current browser session. Please rerun this cell to enable.\n",
       "      </output>\n",
       "      <script src=\"/nbextensions/google.colab/files.js\"></script> "
      ],
      "text/plain": [
       "<IPython.core.display.HTML object>"
      ]
     },
     "metadata": {
      "tags": []
     },
     "output_type": "display_data"
    },
    {
     "name": "stdout",
     "output_type": "stream",
     "text": [
      "Saving 3bkC6JAPog7xX9WO.png to 3bkC6JAPog7xX9WO (5).png\n",
      "3bkC6JAPog7xX9WO.png\n",
      "SCISSORS\n"
     ]
    },
    {
     "data": {
      "image/png": "[encoded data removed]",
      "text/plain": [
       "<Figure size 432x288 with 1 Axes>"
      ]
     },
     "metadata": {
      "needs_background": "light",
      "tags": []
     },
     "output_type": "display_data"
    }
   ],
   "source": [
    "%matplotlib inline\n",
    "\n",
    "gambar_upload = files.upload()\n",
    "\n",
    "for nama_file in gambar_upload.keys():\n",
    "    Image = image.load_img(nama_file, target_size =(60,40))\n",
    "\n",
    "    imgplot = plt.imshow(Image)\n",
    "    x = image.img_to_array(Image)\n",
    "    x = np.expand_dims(x, axis=0) \n",
    "\n",
    "    images = np.vstack([x])/255\n",
    "    classes = model.predict(images, batch_size=32)\n",
    "    print(nama_file)\n",
    "\n",
    "    if round(classes[0,0])==1:\n",
    "        print('PAPER')\n",
    "    elif round(classes[0,1])==1:\n",
    "        print('ROCK')\n",
    "    else:\n",
    "        print('SCISSORS')"
   ]
  }
 ],
 "metadata": {
  "colab": {
   "collapsed_sections": [],
   "name": "RockPaperScissorsIBM_Dicoding.ipynb",
   "provenance": []
  },
  "kernelspec": {
   "display_name": "Python 3",
   "language": "python",
   "name": "python3"
  },
  "language_info": {
   "codemirror_mode": {
    "name": "ipython",
    "version": 3
   },
   "file_extension": ".py",
   "mimetype": "text/x-python",
   "name": "python",
   "nbconvert_exporter": "python",
   "pygments_lexer": "ipython3",
   "version": "3.7.7"
  }
 },
 "nbformat": 4,
 "nbformat_minor": 4
}
